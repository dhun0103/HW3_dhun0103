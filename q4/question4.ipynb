{
 "cells": [
  {
   "cell_type": "code",
   "execution_count": 8,
   "id": "a932836d",
   "metadata": {},
   "outputs": [
    {
     "name": "stdout",
     "output_type": "stream",
     "text": [
      "Factorial of 0 : 1\n",
      "Factorial of 1 : 1\n",
      "Factorial of 2 : 2\n",
      "Factorial of 3 : 6\n",
      "Factorial of 4 : 24\n",
      "Factorial of 5 : 120\n",
      "Factorial of 6 : 720\n",
      "Factorial of 7 : 5040\n",
      "Factorial of 8 : 40320\n",
      "Factorial of 9 : 362880\n",
      "Factorial of 10 : 3628800\n",
      "Factorial of 11 : 39916800\n",
      "Factorial of 12 : 479001600\n",
      "Factorial of 13 : 6227020800\n",
      "Factorial of 14 : 87178291200\n"
     ]
    }
   ],
   "source": [
    "def factorial(n):\n",
    "    if n == 0:\n",
    "        return 1\n",
    "    else:\n",
    "        return n * factorial(n - 1)\n",
    "\n",
    "if __name__ == '__main__':\n",
    "    for i in range(15):\n",
    "        print(f\"Factorial of {i} : {factorial(i)}\")"
   ]
  }
 ],
 "metadata": {
  "kernelspec": {
   "display_name": "Python 3 (ipykernel)",
   "language": "python",
   "name": "python3"
  },
  "language_info": {
   "codemirror_mode": {
    "name": "ipython",
    "version": 3
   },
   "file_extension": ".py",
   "mimetype": "text/x-python",
   "name": "python",
   "nbconvert_exporter": "python",
   "pygments_lexer": "ipython3",
   "version": "3.9.12"
  }
 },
 "nbformat": 4,
 "nbformat_minor": 5
}
